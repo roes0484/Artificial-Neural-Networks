{
 "cells": [
  {
   "cell_type": "markdown",
   "metadata": {},
   "source": [
    "# Executive Summary\n",
    "\n",
    "An Artificial Neural Network was developed to determine a bank’s probability of member retention (current and future). This predictive model used the bank’s historical data (credit score, gender, geographic location, bank tenure, balance, credit card, active status, etc.)and Python (Keras backed by TensorFlow, Scikit-Learn and Pandas) to analyze and structure the data set.\n",
    "\n",
    "## Model Performance\n",
    "\n",
    "The accuracy in the model for the training set was calculated at 83.5% and 84% for the testing set. When the model was optimized it was possible to increase the training set accuracy to 85% by applying this new set of hyper parameters: batch_size= 25, nb_epoch= 500, optimizer=rmsprop."
   ]
  },
  {
   "cell_type": "code",
   "execution_count": 1,
   "metadata": {},
   "outputs": [],
   "source": [
    "import numpy as np\n",
    "import pandas as pd\n",
    "import matplotlib.pyplot as plt\n",
    "from sklearn.model_selection import train_test_split\n",
    "from sklearn.preprocessing import StandardScaler, LabelEncoder, OneHotEncoder\n",
    "\n",
    "%matplotlib inline"
   ]
  },
  {
   "cell_type": "code",
   "execution_count": 2,
   "metadata": {},
   "outputs": [
    {
     "data": {
      "text/html": [
       "<div>\n",
       "<style scoped>\n",
       "    .dataframe tbody tr th:only-of-type {\n",
       "        vertical-align: middle;\n",
       "    }\n",
       "\n",
       "    .dataframe tbody tr th {\n",
       "        vertical-align: top;\n",
       "    }\n",
       "\n",
       "    .dataframe thead th {\n",
       "        text-align: right;\n",
       "    }\n",
       "</style>\n",
       "<table border=\"1\" class=\"dataframe\">\n",
       "  <thead>\n",
       "    <tr style=\"text-align: right;\">\n",
       "      <th></th>\n",
       "      <th>RowNumber</th>\n",
       "      <th>CustomerId</th>\n",
       "      <th>Surname</th>\n",
       "      <th>CreditScore</th>\n",
       "      <th>Geography</th>\n",
       "      <th>Gender</th>\n",
       "      <th>Age</th>\n",
       "      <th>Tenure</th>\n",
       "      <th>Balance</th>\n",
       "      <th>NumOfProducts</th>\n",
       "      <th>HasCrCard</th>\n",
       "      <th>IsActiveMember</th>\n",
       "      <th>EstimatedSalary</th>\n",
       "      <th>Exited</th>\n",
       "    </tr>\n",
       "  </thead>\n",
       "  <tbody>\n",
       "    <tr>\n",
       "      <th>0</th>\n",
       "      <td>1</td>\n",
       "      <td>15634602</td>\n",
       "      <td>Hargrave</td>\n",
       "      <td>619</td>\n",
       "      <td>France</td>\n",
       "      <td>Female</td>\n",
       "      <td>42</td>\n",
       "      <td>2</td>\n",
       "      <td>0.00</td>\n",
       "      <td>1</td>\n",
       "      <td>1</td>\n",
       "      <td>1</td>\n",
       "      <td>101348.88</td>\n",
       "      <td>1</td>\n",
       "    </tr>\n",
       "    <tr>\n",
       "      <th>1</th>\n",
       "      <td>2</td>\n",
       "      <td>15647311</td>\n",
       "      <td>Hill</td>\n",
       "      <td>608</td>\n",
       "      <td>Spain</td>\n",
       "      <td>Female</td>\n",
       "      <td>41</td>\n",
       "      <td>1</td>\n",
       "      <td>83807.86</td>\n",
       "      <td>1</td>\n",
       "      <td>0</td>\n",
       "      <td>1</td>\n",
       "      <td>112542.58</td>\n",
       "      <td>0</td>\n",
       "    </tr>\n",
       "    <tr>\n",
       "      <th>2</th>\n",
       "      <td>3</td>\n",
       "      <td>15619304</td>\n",
       "      <td>Onio</td>\n",
       "      <td>502</td>\n",
       "      <td>France</td>\n",
       "      <td>Female</td>\n",
       "      <td>42</td>\n",
       "      <td>8</td>\n",
       "      <td>159660.80</td>\n",
       "      <td>3</td>\n",
       "      <td>1</td>\n",
       "      <td>0</td>\n",
       "      <td>113931.57</td>\n",
       "      <td>1</td>\n",
       "    </tr>\n",
       "    <tr>\n",
       "      <th>3</th>\n",
       "      <td>4</td>\n",
       "      <td>15701354</td>\n",
       "      <td>Boni</td>\n",
       "      <td>699</td>\n",
       "      <td>France</td>\n",
       "      <td>Female</td>\n",
       "      <td>39</td>\n",
       "      <td>1</td>\n",
       "      <td>0.00</td>\n",
       "      <td>2</td>\n",
       "      <td>0</td>\n",
       "      <td>0</td>\n",
       "      <td>93826.63</td>\n",
       "      <td>0</td>\n",
       "    </tr>\n",
       "    <tr>\n",
       "      <th>4</th>\n",
       "      <td>5</td>\n",
       "      <td>15737888</td>\n",
       "      <td>Mitchell</td>\n",
       "      <td>850</td>\n",
       "      <td>Spain</td>\n",
       "      <td>Female</td>\n",
       "      <td>43</td>\n",
       "      <td>2</td>\n",
       "      <td>125510.82</td>\n",
       "      <td>1</td>\n",
       "      <td>1</td>\n",
       "      <td>1</td>\n",
       "      <td>79084.10</td>\n",
       "      <td>0</td>\n",
       "    </tr>\n",
       "  </tbody>\n",
       "</table>\n",
       "</div>"
      ],
      "text/plain": [
       "   RowNumber  CustomerId   Surname  CreditScore Geography  Gender  Age  \\\n",
       "0          1    15634602  Hargrave          619    France  Female   42   \n",
       "1          2    15647311      Hill          608     Spain  Female   41   \n",
       "2          3    15619304      Onio          502    France  Female   42   \n",
       "3          4    15701354      Boni          699    France  Female   39   \n",
       "4          5    15737888  Mitchell          850     Spain  Female   43   \n",
       "\n",
       "   Tenure    Balance  NumOfProducts  HasCrCard  IsActiveMember  \\\n",
       "0       2       0.00              1          1               1   \n",
       "1       1   83807.86              1          0               1   \n",
       "2       8  159660.80              3          1               0   \n",
       "3       1       0.00              2          0               0   \n",
       "4       2  125510.82              1          1               1   \n",
       "\n",
       "   EstimatedSalary  Exited  \n",
       "0        101348.88       1  \n",
       "1        112542.58       0  \n",
       "2        113931.57       1  \n",
       "3         93826.63       0  \n",
       "4         79084.10       0  "
      ]
     },
     "execution_count": 2,
     "metadata": {},
     "output_type": "execute_result"
    }
   ],
   "source": [
    "#Uploading data set\n",
    "dataset=pd.read_csv('Churn_Modelling.csv')\n",
    "dataset.head()"
   ]
  },
  {
   "cell_type": "code",
   "execution_count": 3,
   "metadata": {},
   "outputs": [
    {
     "name": "stdout",
     "output_type": "stream",
     "text": [
      "<class 'pandas.core.frame.DataFrame'>\n",
      "RangeIndex: 10000 entries, 0 to 9999\n",
      "Data columns (total 14 columns):\n",
      "RowNumber          10000 non-null int64\n",
      "CustomerId         10000 non-null int64\n",
      "Surname            10000 non-null object\n",
      "CreditScore        10000 non-null int64\n",
      "Geography          10000 non-null object\n",
      "Gender             10000 non-null object\n",
      "Age                10000 non-null int64\n",
      "Tenure             10000 non-null int64\n",
      "Balance            10000 non-null float64\n",
      "NumOfProducts      10000 non-null int64\n",
      "HasCrCard          10000 non-null int64\n",
      "IsActiveMember     10000 non-null int64\n",
      "EstimatedSalary    10000 non-null float64\n",
      "Exited             10000 non-null int64\n",
      "dtypes: float64(2), int64(9), object(3)\n",
      "memory usage: 1.1+ MB\n"
     ]
    }
   ],
   "source": [
    "#Structuring data set\n",
    "x=dataset.iloc[:,3:13].values\n",
    "y=dataset.iloc[:,13].values\n",
    "dataset.info()"
   ]
  },
  {
   "cell_type": "code",
   "execution_count": 4,
   "metadata": {},
   "outputs": [
    {
     "data": {
      "text/plain": [
       "array([[619, 'France', 'Female', ..., 1, 1, 101348.88],\n",
       "       [608, 'Spain', 'Female', ..., 0, 1, 112542.58],\n",
       "       [502, 'France', 'Female', ..., 1, 0, 113931.57],\n",
       "       ..., \n",
       "       [709, 'France', 'Female', ..., 0, 1, 42085.58],\n",
       "       [772, 'Germany', 'Male', ..., 1, 0, 92888.52],\n",
       "       [792, 'France', 'Female', ..., 1, 0, 38190.78]], dtype=object)"
      ]
     },
     "execution_count": 4,
     "metadata": {},
     "output_type": "execute_result"
    }
   ],
   "source": [
    "x"
   ]
  },
  {
   "cell_type": "code",
   "execution_count": 5,
   "metadata": {
    "scrolled": true
   },
   "outputs": [],
   "source": [
    "labelencoder_x_1=LabelEncoder()\n",
    "x[:,1]=labelencoder_x_1.fit_transform(x[:,1])\n",
    "labelencoder_x_2=LabelEncoder()\n",
    "x[:,2]=labelencoder_x_2.fit_transform(x[:,2])\n",
    "onehotencoder=OneHotEncoder(categorical_features=[1])\n",
    "x=onehotencoder.fit_transform(x).toarray()\n",
    "x=x[:,1:]\n",
    "x=pd.DataFrame(x)"
   ]
  },
  {
   "cell_type": "code",
   "execution_count": 6,
   "metadata": {},
   "outputs": [],
   "source": [
    "#Splitting data set into training and test sets\n",
    "xtrain,xtest,ytrain,ytest=train_test_split(x,y,test_size=0.2)"
   ]
  },
  {
   "cell_type": "code",
   "execution_count": 7,
   "metadata": {},
   "outputs": [],
   "source": [
    "sc=StandardScaler()\n",
    "xtrain=sc.fit_transform(xtrain)\n",
    "xtest=sc.transform(xtest)"
   ]
  },
  {
   "cell_type": "code",
   "execution_count": 8,
   "metadata": {},
   "outputs": [
    {
     "name": "stderr",
     "output_type": "stream",
     "text": [
      "Using TensorFlow backend.\n"
     ]
    }
   ],
   "source": [
    "#Importing the Keras libraries and packages. \n",
    "#Keras will be using TesorFlow as a backend.\n",
    "import keras\n",
    "from keras.models import Sequential\n",
    "from keras.layers import Dense\n",
    "from keras.layers import Dropout"
   ]
  },
  {
   "cell_type": "code",
   "execution_count": 9,
   "metadata": {},
   "outputs": [],
   "source": [
    "#The Artificial Neural Network portion of the model\n",
    "#The Input, Hidden and Output Layers are being developed\n",
    "#To prevent overfitting the dropout function has been included\n",
    "classifier=Sequential()\n",
    "classifier.add(Dense(units=6,kernel_initializer='uniform',activation='relu',input_dim=11))\n",
    "classifier.add(Dropout(p=0.1))\n",
    "\n",
    "classifier.add(Dense(units=6,kernel_initializer='uniform',activation='relu'))\n",
    "classifier.add(Dropout(p=0.1))\n",
    "\n",
    "classifier.add(Dense(units=1,kernel_initializer='uniform',activation='sigmoid'))\n"
   ]
  },
  {
   "cell_type": "code",
   "execution_count": 10,
   "metadata": {},
   "outputs": [],
   "source": [
    "#Compiling the ANN\n",
    "#The descent and loss conditions will be added. \n",
    "#In this case it will be Stochastic Gradient descent and Logarithmic Loss.\n",
    "classifier.compile(optimizer='adam',loss='binary_crossentropy',metrics=['accuracy'])"
   ]
  },
  {
   "cell_type": "code",
   "execution_count": 11,
   "metadata": {},
   "outputs": [
    {
     "name": "stdout",
     "output_type": "stream",
     "text": [
      "Epoch 1/20\n",
      "8000/8000 [==============================] - 4s 472us/step - loss: 0.4938 - acc: 0.7967 0s - loss: 0.5079 - \n",
      "Epoch 2/20\n",
      "8000/8000 [==============================] - 2s 291us/step - loss: 0.4261 - acc: 0.7969\n",
      "Epoch 3/20\n",
      "8000/8000 [==============================] - 2s 259us/step - loss: 0.4211 - acc: 0.7969\n",
      "Epoch 4/20\n",
      "8000/8000 [==============================] - 2s 264us/step - loss: 0.4177 - acc: 0.8062\n",
      "Epoch 5/20\n",
      "8000/8000 [==============================] - 2s 265us/step - loss: 0.4149 - acc: 0.8262\n",
      "Epoch 6/20\n",
      "8000/8000 [==============================] - 2s 262us/step - loss: 0.4125 - acc: 0.8275\n",
      "Epoch 7/20\n",
      "8000/8000 [==============================] - 2s 259us/step - loss: 0.4110 - acc: 0.8320\n",
      "Epoch 8/20\n",
      "8000/8000 [==============================] - 2s 260us/step - loss: 0.4095 - acc: 0.8311\n",
      "Epoch 9/20\n",
      "8000/8000 [==============================] - 2s 262us/step - loss: 0.4082 - acc: 0.8334\n",
      "Epoch 10/20\n",
      "8000/8000 [==============================] - 3s 329us/step - loss: 0.4077 - acc: 0.8342\n",
      "Epoch 11/20\n",
      "8000/8000 [==============================] - 4s 445us/step - loss: 0.4066 - acc: 0.8329\n",
      "Epoch 12/20\n",
      "8000/8000 [==============================] - 3s 433us/step - loss: 0.4061 - acc: 0.8360\n",
      "Epoch 13/20\n",
      "8000/8000 [==============================] - 3s 408us/step - loss: 0.4052 - acc: 0.8336\n",
      "Epoch 14/20\n",
      "8000/8000 [==============================] - 3s 432us/step - loss: 0.4048 - acc: 0.8341\n",
      "Epoch 15/20\n",
      "8000/8000 [==============================] - 4s 438us/step - loss: 0.4041 - acc: 0.8344\n",
      "Epoch 16/20\n",
      "8000/8000 [==============================] - 3s 398us/step - loss: 0.4036 - acc: 0.8339\n",
      "Epoch 17/20\n",
      "8000/8000 [==============================] - 3s 382us/step - loss: 0.4027 - acc: 0.8356\n",
      "Epoch 18/20\n",
      "8000/8000 [==============================] - 4s 440us/step - loss: 0.4027 - acc: 0.8349\n",
      "Epoch 19/20\n",
      "8000/8000 [==============================] - 4s 439us/step - loss: 0.4024 - acc: 0.8352\n",
      "Epoch 20/20\n",
      "8000/8000 [==============================] - 3s 394us/step - loss: 0.4020 - acc: 0.8354\n"
     ]
    },
    {
     "data": {
      "text/plain": [
       "<keras.callbacks.History at 0xee57748>"
      ]
     },
     "execution_count": 11,
     "metadata": {},
     "output_type": "execute_result"
    }
   ],
   "source": [
    "#THe model is analyzing the train sets\n",
    "#Without doing a optimization analysis of the code the accuracy from the training set is 0.8354\n",
    "classifier.fit(xtrain,ytrain,batch_size=10,epochs=20)"
   ]
  },
  {
   "cell_type": "code",
   "execution_count": 12,
   "metadata": {},
   "outputs": [
    {
     "data": {
      "text/plain": [
       "array([[ 0.17409831],\n",
       "       [ 0.20448771],\n",
       "       [ 0.23335359],\n",
       "       ..., \n",
       "       [ 0.16684215],\n",
       "       [ 0.22242725],\n",
       "       [ 0.0849918 ]], dtype=float32)"
      ]
     },
     "execution_count": 12,
     "metadata": {},
     "output_type": "execute_result"
    }
   ],
   "source": [
    "ypred=classifier.predict(xtest)\n",
    "ypred"
   ]
  },
  {
   "cell_type": "code",
   "execution_count": 13,
   "metadata": {},
   "outputs": [
    {
     "data": {
      "text/plain": [
       "array([[False],\n",
       "       [False],\n",
       "       [False],\n",
       "       ..., \n",
       "       [False],\n",
       "       [False],\n",
       "       [False]], dtype=bool)"
      ]
     },
     "execution_count": 13,
     "metadata": {},
     "output_type": "execute_result"
    }
   ],
   "source": [
    "ypred=(ypred>0.5)\n",
    "ypred"
   ]
  },
  {
   "cell_type": "code",
   "execution_count": 14,
   "metadata": {},
   "outputs": [
    {
     "data": {
      "text/plain": [
       "array([[1555,   33],\n",
       "       [ 286,  126]], dtype=int64)"
      ]
     },
     "execution_count": 14,
     "metadata": {},
     "output_type": "execute_result"
    }
   ],
   "source": [
    "#Without doing a optimization analysis of the code the accuracy from the test set is 0.84\n",
    "from sklearn.metrics import confusion_matrix\n",
    "cm=confusion_matrix(ytest,ypred)\n",
    "cm"
   ]
  },
  {
   "cell_type": "code",
   "execution_count": 19,
   "metadata": {},
   "outputs": [
    {
     "data": {
      "text/plain": [
       "0.83999999999999997"
      ]
     },
     "execution_count": 19,
     "metadata": {},
     "output_type": "execute_result"
    }
   ],
   "source": [
    "np.around(((cm[0,0]+cm[1,1])/2000),decimals=3)"
   ]
  },
  {
   "cell_type": "code",
   "execution_count": 20,
   "metadata": {},
   "outputs": [
    {
     "data": {
      "text/plain": [
       "array([[False]], dtype=bool)"
      ]
     },
     "execution_count": 20,
     "metadata": {},
     "output_type": "execute_result"
    }
   ],
   "source": [
    "#New Member single prediction using random values. The model correctly predicted that the new member was likely to stay.\n",
    "newpred=classifier.predict(sc.transform(np.array([[0.0,0,600,1,40,3,60000,2,1,1,50000]])))\n",
    "newpred=(newpred>0.5)\n",
    "newpred"
   ]
  },
  {
   "cell_type": "code",
   "execution_count": 21,
   "metadata": {},
   "outputs": [
    {
     "name": "stdout",
     "output_type": "stream",
     "text": [
      "<class 'pandas.core.frame.DataFrame'>\n",
      "RangeIndex: 10000 entries, 0 to 9999\n",
      "Data columns (total 11 columns):\n",
      "0     10000 non-null float64\n",
      "1     10000 non-null float64\n",
      "2     10000 non-null float64\n",
      "3     10000 non-null float64\n",
      "4     10000 non-null float64\n",
      "5     10000 non-null float64\n",
      "6     10000 non-null float64\n",
      "7     10000 non-null float64\n",
      "8     10000 non-null float64\n",
      "9     10000 non-null float64\n",
      "10    10000 non-null float64\n",
      "dtypes: float64(11)\n",
      "memory usage: 859.5 KB\n"
     ]
    }
   ],
   "source": [
    "check=pd.DataFrame(x)\n",
    "check.info()"
   ]
  },
  {
   "cell_type": "code",
   "execution_count": 22,
   "metadata": {},
   "outputs": [],
   "source": [
    "#Optimizing the model by evaluating different hyper parameters \n",
    "from keras.wrappers.scikit_learn import KerasClassifier\n",
    "from sklearn.model_selection import cross_val_score\n",
    "from sklearn.model_selection import GridSearchCV"
   ]
  },
  {
   "cell_type": "code",
   "execution_count": 23,
   "metadata": {},
   "outputs": [],
   "source": [
    "def build_classifier():\n",
    "    classifier=Sequential()\n",
    "    classifier.add(Dense(units=6,kernel_initializer='uniform',activation='relu',input_dim=11))\n",
    "    classifier.add(Dense(units=6,kernel_initializer='uniform',activation='relu'))   \n",
    "    classifier.add(Dense(units=1,kernel_initializer='uniform',activation='sigmoid'))\n",
    "    classifier.compile(optimizer='adam',loss='binary_crossentropy',metrics=['accuracy'])\n",
    "    return classifier\n",
    "    "
   ]
  },
  {
   "cell_type": "code",
   "execution_count": null,
   "metadata": {},
   "outputs": [],
   "source": [
    "classifier=KerasClassifier(build_fn=build_classifier)\n",
    "parameters={'batch_size':[25,32],'nb_epoch':{100,500},'optimizer':['adam','rmsprop']}\n",
    "grid_search=GridSearchCV(estimator=classifier,param_grid=parameters,scoring='accuracy',cv=10)\n",
    "grid_search=grid_search.fit(xtrain,ytrain)\n",
    "best_parameter=grid_search.best_params_\n",
    "best_accuray=grid.search.best_score_"
   ]
  }
 ],
 "metadata": {
  "kernelspec": {
   "display_name": "Python 3",
   "language": "python",
   "name": "python3"
  },
  "language_info": {
   "codemirror_mode": {
    "name": "ipython",
    "version": 3
   },
   "file_extension": ".py",
   "mimetype": "text/x-python",
   "name": "python",
   "nbconvert_exporter": "python",
   "pygments_lexer": "ipython3",
   "version": "3.6.3"
  }
 },
 "nbformat": 4,
 "nbformat_minor": 2
}
